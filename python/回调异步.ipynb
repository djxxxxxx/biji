{
 "cells": [
  {
   "cell_type": "code",
   "execution_count": 1,
   "metadata": {},
   "outputs": [
    {
     "name": "stdout",
     "output_type": "stream",
     "text": [
      "start a\n",
      "long io startleave a\n",
      "start b\n",
      "finish b\n",
      "\n",
      "finish long io\n",
      "long io\n"
     ]
    }
   ],
   "source": [
    "import time, threading\n",
    "\n",
    "def long_io(cb):\n",
    "    def fun(callback):\n",
    "        print('long io start')\n",
    "        time.sleep(5)\n",
    "        print('finish long io')\n",
    "        result = \"long io\"\n",
    "        callback(result)\n",
    "    t = threading.Thread(target=fun, args=(cb,))\n",
    "    t.start()\n",
    "    \n",
    "def on_finish(res):\n",
    "    print(res)\n",
    "\n",
    "def a():\n",
    "    print('start a')\n",
    "    res = long_io(on_finish)\n",
    "    print('leave a')\n",
    "    \n",
    "def b():\n",
    "    print('start b')\n",
    "    print('finish b')\n",
    "    \n",
    "def main():\n",
    "    a()\n",
    "    b()\n",
    "\n",
    "if __name__ == '__main__':\n",
    "    main()"
   ]
  },
  {
   "cell_type": "code",
   "execution_count": null,
   "metadata": {},
   "outputs": [],
   "source": [
    "import time, threading\n",
    "\n",
    "def gen_coroutine(f):\n",
    "    def wrapper(*args, **kwargs):\n",
    "        gen_f = f()                     # gen_f 为生成器 req_a\n",
    "        r = gen_f.next()                # r 为生成器 long_io\n",
    "        def fun(g):\n",
    "            res = g.next()              # 执行生成器 long_io\n",
    "            try:\n",
    "                gen_f.send(res)         # 将结果返回 req_a 使其继续执行\n",
    "            except StopIteration:\n",
    "                pass\n",
    "        t = threading.Thread(target=fun, args=(r,))\n",
    "        t.start()\n",
    "    return wrapper\n",
    "\n",
    "def long_io():\n",
    "    print('long_io start')\n",
    "    time.sleep(5)\n",
    "    print('完成IO操作，yield回操作结果')\n",
    "    yield 'io result'\n",
    "\n",
    "@gen_coroutine\n",
    "def req_a():\n",
    "    print('start a')\n",
    "    res = yield long_io()\n",
    "    print('res: %s' % res)\n",
    "    print('finish a')\n",
    "\n",
    "def req_b():\n",
    "    print('start b')\n",
    "    time.sleep(2)\n",
    "    print('finish b')\n",
    "\n",
    "def main():\n",
    "    req_a()\n",
    "    req_b()\n",
    "\n",
    "if __name__ == '__main__':\n",
    "    main()"
   ]
  }
 ],
 "metadata": {
  "kernelspec": {
   "display_name": "Python 3",
   "language": "python",
   "name": "python3"
  },
  "language_info": {
   "codemirror_mode": {
    "name": "ipython",
    "version": 3
   },
   "file_extension": ".py",
   "mimetype": "text/x-python",
   "name": "python",
   "nbconvert_exporter": "python",
   "pygments_lexer": "ipython3",
   "version": "3.8.2"
  }
 },
 "nbformat": 4,
 "nbformat_minor": 4
}
