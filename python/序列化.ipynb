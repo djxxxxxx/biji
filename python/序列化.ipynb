{
 "cells": [
  {
   "cell_type": "code",
   "execution_count": 3,
   "metadata": {},
   "outputs": [],
   "source": [
    "import pickle\n",
    "d = {\n",
    "    'a':'123',\n",
    "    'b':'567',\n",
    "    'c':'678'\n",
    "}\n",
    "e = ['zhangsan', 'lisi', 'wangwu']\n",
    "f = open('game.pkl', 'wb')\n",
    "pickle.dump(d, f)\n",
    "pickle.dump(e, f)"
   ]
  },
  {
   "cell_type": "code",
   "execution_count": 4,
   "metadata": {},
   "outputs": [
    {
     "name": "stdout",
     "output_type": "stream",
     "text": [
      "{'a': '123', 'b': '567', 'c': '678'}\n",
      "['zhangsan', 'lisi', 'wangwu']\n"
     ]
    }
   ],
   "source": [
    "f = open('game.pkl', 'rb')\n",
    "print(pickle.load(f))\n",
    "print(pickle.load(f))"
   ]
  },
  {
   "cell_type": "code",
   "execution_count": null,
   "metadata": {},
   "outputs": [],
   "source": []
  }
 ],
 "metadata": {
  "kernelspec": {
   "display_name": "Python 3",
   "language": "python",
   "name": "python3"
  },
  "language_info": {
   "codemirror_mode": {
    "name": "ipython",
    "version": 3
   },
   "file_extension": ".py",
   "mimetype": "text/x-python",
   "name": "python",
   "nbconvert_exporter": "python",
   "pygments_lexer": "ipython3",
   "version": "3.8.1"
  }
 },
 "nbformat": 4,
 "nbformat_minor": 4
}
