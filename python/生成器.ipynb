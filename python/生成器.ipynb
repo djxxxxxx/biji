{
 "cells": [
  {
   "cell_type": "code",
   "execution_count": 6,
   "metadata": {},
   "outputs": [
    {
     "data": {
      "text/plain": [
       "1"
      ]
     },
     "execution_count": 6,
     "metadata": {},
     "output_type": "execute_result"
    }
   ],
   "source": [
    "g = (x+1 for x in range(10))\n",
    "next(g)"
   ]
  },
  {
   "cell_type": "code",
   "execution_count": null,
   "metadata": {},
   "outputs": [],
   "source": [
    "def fib():\n",
    "    n = [1, 1]\n",
    "    i = 0\n",
    "    while True:\n",
    "        m = n[i] + n[i + 1]\n",
    "        n.append(m)\n",
    "        i += 1\n",
    "        yield n\n",
    "\n",
    "f = fib()\n",
    "for i in range(20):\n",
    "    print(f.__next__())"
   ]
  },
  {
   "cell_type": "code",
   "execution_count": 2,
   "metadata": {},
   "outputs": [
    {
     "name": "stdout",
     "output_type": "stream",
     "text": [
      "start yield\n",
      "4\n",
      "finidh yield\n",
      "start yield\n",
      "3\n",
      "finidh yield\n",
      "start yield\n",
      "2\n",
      "finidh yield\n",
      "start yield\n",
      "1\n",
      "finidh yield\n",
      "first yield\n",
      "start yield\n",
      "second yield\n",
      "finidh yield\n",
      "start yield\n"
     ]
    },
    {
     "data": {
      "text/plain": [
       "2"
      ]
     },
     "execution_count": 2,
     "metadata": {},
     "output_type": "execute_result"
    }
   ],
   "source": [
    "def myyield(n):\n",
    "    while n > 0:\n",
    "        print('start yield')\n",
    "        yield n\n",
    "        print('finidh yield')\n",
    "        n -= 1\n",
    "        \n",
    "for i in myyield(4):\n",
    "    print(i)\n",
    "m = myyield(3)\n",
    "print('first yield')\n",
    "m.__next__()\n",
    "print('second yield')\n",
    "m.__next__()"
   ]
  },
  {
   "cell_type": "code",
   "execution_count": null,
   "metadata": {},
   "outputs": [],
   "source": []
  }
 ],
 "metadata": {
  "kernelspec": {
   "display_name": "Python 3",
   "language": "python",
   "name": "python3"
  },
  "language_info": {
   "codemirror_mode": {
    "name": "ipython",
    "version": 3
   },
   "file_extension": ".py",
   "mimetype": "text/x-python",
   "name": "python",
   "nbconvert_exporter": "python",
   "pygments_lexer": "ipython3",
   "version": "3.8.2"
  }
 },
 "nbformat": 4,
 "nbformat_minor": 4
}
